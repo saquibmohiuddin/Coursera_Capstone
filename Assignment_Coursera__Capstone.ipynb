{
  "nbformat": 4,
  "nbformat_minor": 0,
  "metadata": {
    "colab": {
      "name": "Assignment: Coursera _Capstone",
      "provenance": [],
      "authorship_tag": "ABX9TyO23CbTs334i+mnR7fxS0cg",
      "include_colab_link": true
    },
    "kernelspec": {
      "name": "python3",
      "display_name": "Python 3"
    }
  },
  "cells": [
    {
      "cell_type": "markdown",
      "metadata": {
        "id": "view-in-github",
        "colab_type": "text"
      },
      "source": [
        "<a href=\"https://colab.research.google.com/github/saquibmohiuddin/Coursera_Capstone/blob/master/Assignment_Coursera__Capstone.ipynb\" target=\"_parent\"><img src=\"https://colab.research.google.com/assets/colab-badge.svg\" alt=\"Open In Colab\"/></a>"
      ]
    },
    {
      "cell_type": "markdown",
      "metadata": {
        "id": "LPlbkAtp-tKC",
        "colab_type": "text"
      },
      "source": [
        "This following notebook is for Coursera Capstone \n"
      ]
    },
    {
      "cell_type": "code",
      "metadata": {
        "id": "Fvp1omIpsGym",
        "colab_type": "code",
        "colab": {
          "base_uri": "https://localhost:8080/",
          "height": 34
        },
        "outputId": "4c711925-bf17-4d9e-bd24-b4f04d8a43ab"
      },
      "source": [
        "import pandas as pd \n",
        "import numpy as np \n",
        "print('Hello World, welcome to my capstone project')"
      ],
      "execution_count": 1,
      "outputs": [
        {
          "output_type": "stream",
          "text": [
            "Hello World, welcome to my capstone project\n"
          ],
          "name": "stdout"
        }
      ]
    },
    {
      "cell_type": "code",
      "metadata": {
        "id": "TKiTs8mG--sK",
        "colab_type": "code",
        "colab": {}
      },
      "source": [
        ""
      ],
      "execution_count": null,
      "outputs": []
    }
  ]
}